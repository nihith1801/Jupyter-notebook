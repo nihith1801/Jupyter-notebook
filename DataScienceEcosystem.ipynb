{
 "cells": [
  {
   "cell_type": "markdown",
   "id": "c8b9d6b8-b166-4b78-93f6-a7f515b34a6c",
   "metadata": {},
   "source": [
    "# Data Science Tools and Ecosystem"
   ]
  },
  {
   "cell_type": "markdown",
   "id": "b4afa0a9-e504-4f85-a831-0a1751bc6a8c",
   "metadata": {},
   "source": [
    "##### In this notebook, Data Science Tools and Ecosystem are summarized."
   ]
  },
  {
   "cell_type": "markdown",
   "id": "e55a9666-9372-4280-ba29-bbd7bc5f813c",
   "metadata": {
    "jp-MarkdownHeadingCollapsed": true,
    "tags": []
   },
   "source": [
    "**Objectives:** \n",
    "##### -Popular languages for Data Science\n"
   ]
  },
  {
   "cell_type": "markdown",
   "id": "a6fe79c8-8ce9-453a-89b4-71b3c5af1d5b",
   "metadata": {
    "tags": []
   },
   "source": [
    "##### Some of the popular languages that Data Scientists use are:\n",
    "1. Python\n",
    "2. R\n",
    "3. SQL\n",
    "4. SAS\n",
    "\n",
    "    "
   ]
  },
  {
   "cell_type": "markdown",
   "id": "98fc55c4-65f6-43d5-926b-ff0b99f8bc82",
   "metadata": {
    "tags": []
   },
   "source": [
    "##### Some of the commonly used libraries used by Data Scientists include:\n",
    "1. NumPy\n",
    "2. SciPy\n",
    "3. Pandas\n",
    "4. Keras"
   ]
  },
  {
   "cell_type": "markdown",
   "id": "a4fdcbbc-d1a4-47f3-a86b-4a9a0411cb0d",
   "metadata": {},
   "source": [
    "## Data Science Tools\n",
    "\n",
    "| Data Science Tools|\n",
    "|------|\n",
    "| Anaconda |\n",
    "| Apache Hadoop |\n",
    "| SAS |\n"
   ]
  },
  {
   "cell_type": "markdown",
   "id": "986da050-797e-4e07-a20c-da4fd3e6f999",
   "metadata": {
    "tags": []
   },
   "source": [
    "### Below are a few examples of evaluating arithmetic expressions in Python"
   ]
  },
  {
   "cell_type": "code",
   "execution_count": 1,
   "id": "1d5236c6-b65f-413f-a7f0-de38088ed633",
   "metadata": {
    "tags": []
   },
   "outputs": [
    {
     "data": {
      "text/plain": [
       "17"
      ]
     },
     "execution_count": 1,
     "metadata": {},
     "output_type": "execute_result"
    }
   ],
   "source": [
    "#This a simple arithmetic expression to mutiply then add integers\n",
    "(3*4)+5\n"
   ]
  },
  {
   "cell_type": "code",
   "execution_count": 2,
   "id": "445873e0-6bef-4432-bd16-875970a0b89b",
   "metadata": {
    "tags": []
   },
   "outputs": [
    {
     "name": "stdout",
     "output_type": "stream",
     "text": [
      "Hours: 3.3333333333333335\n"
     ]
    }
   ],
   "source": [
    "# This will convert 200 minutes to hours by diving by 60\n",
    "min=200\n",
    "hours=(200/60)\n",
    "print(\"Hours:\",hours)"
   ]
  },
  {
   "cell_type": "markdown",
   "id": "e8783f3b-c7f5-4ccf-9164-609212e7a3a6",
   "metadata": {},
   "source": [
    "## Author\n",
    "#### Nihith Wudali"
   ]
  }
 ],
 "metadata": {
  "kernelspec": {
   "display_name": "Python 3 (ipykernel)",
   "language": "python",
   "name": "python3"
  },
  "language_info": {
   "codemirror_mode": {
    "name": "ipython",
    "version": 3
   },
   "file_extension": ".py",
   "mimetype": "text/x-python",
   "name": "python",
   "nbconvert_exporter": "python",
   "pygments_lexer": "ipython3",
   "version": "3.11.2"
  }
 },
 "nbformat": 4,
 "nbformat_minor": 5
}
